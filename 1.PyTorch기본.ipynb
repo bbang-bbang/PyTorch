{
  "nbformat": 4,
  "nbformat_minor": 0,
  "metadata": {
    "colab": {
      "name": "1.PyTorch 기본(2022_01_26).ipynb",
      "provenance": [],
      "collapsed_sections": []
    },
    "kernelspec": {
      "name": "python3",
      "display_name": "Python 3"
    },
    "language_info": {
      "name": "python"
    },
    "accelerator": "GPU"
  },
  "cells": [
    {
      "cell_type": "markdown",
      "source": [
        "# 파이토치 구성요소\n",
        "* torch : 텐서를 자동으로 생성\n",
        "* torch.autograd : 자동미분 기능\n",
        "* torch.nn : 신경망을 자동 생성\n",
        "* torch.multiprocessing : 병렬처리 기능\n",
        "* torch.utils : 데이터 조작 유틸리티 기능\n",
        "* torch.legacy : Torch로부터 포팅해온 코드\n",
        "* torch.onnx : 서로 다른 프레임워크 간의 모델을 공유"
      ],
      "metadata": {
        "id": "WUYe1rNaFAEk"
      }
    },
    {
      "cell_type": "markdown",
      "source": [
        "# 텐서(Tensors)\n",
        "* numpy의 ndarray와 유사"
      ],
      "metadata": {
        "id": "hMG7HvJ_Fwm3"
      }
    },
    {
      "cell_type": "code",
      "execution_count": 1,
      "metadata": {
        "id": "jlRtEq6IE0Eq"
      },
      "outputs": [],
      "source": [
        "import torch"
      ]
    },
    {
      "cell_type": "code",
      "source": [
        "torch.__version__"
      ],
      "metadata": {
        "colab": {
          "base_uri": "https://localhost:8080/",
          "height": 35
        },
        "id": "puVEwAqqF7pS",
        "outputId": "38d7d7f8-f682-4c45-d264-00610da54d05"
      },
      "execution_count": 2,
      "outputs": [
        {
          "output_type": "execute_result",
          "data": {
            "application/vnd.google.colaboratory.intrinsic+json": {
              "type": "string"
            },
            "text/plain": [
              "'1.10.0+cu111'"
            ]
          },
          "metadata": {},
          "execution_count": 2
        }
      ]
    },
    {
      "cell_type": "markdown",
      "source": [
        "## 초기화 되지 않는 행렬(empty)\n",
        "* 주어진 크기의 아무값으로도 초기화 되지 않은 텐서 제작\n",
        "* 텐서 성분의 값은 쓰레기"
      ],
      "metadata": {
        "id": "1C3hXx6FGAKI"
      }
    },
    {
      "cell_type": "code",
      "source": [
        "x = torch.empty(4, 2)\n",
        "print(x)"
      ],
      "metadata": {
        "colab": {
          "base_uri": "https://localhost:8080/"
        },
        "id": "2QShBxgAF-Mh",
        "outputId": "df608d72-19ef-42dc-f70b-5939f3fdceec"
      },
      "execution_count": 3,
      "outputs": [
        {
          "output_type": "stream",
          "name": "stdout",
          "text": [
            "tensor([[6.2855e+27, 3.0928e-41],\n",
            "        [3.3631e-44, 0.0000e+00],\n",
            "        [       nan, 6.4460e-44],\n",
            "        [1.1578e+27, 1.1362e+30]])\n"
          ]
        }
      ]
    },
    {
      "cell_type": "markdown",
      "source": [
        "## 무작위로 초기화된 행렬(rand)\n",
        "* rand : 0 ~ 1 사이의 랜덤 값\n",
        "* randn : 평균이 0이고 분산이 1인 랜덤 값 "
      ],
      "metadata": {
        "id": "4cyj9FgQGQ5k"
      }
    },
    {
      "cell_type": "code",
      "source": [
        "x = torch.rand(4,2)\n",
        "print(x)"
      ],
      "metadata": {
        "colab": {
          "base_uri": "https://localhost:8080/"
        },
        "id": "Xuxmal3OGJJC",
        "outputId": "073dd68f-c6a8-42a5-a9a4-86e44a503c59"
      },
      "execution_count": 5,
      "outputs": [
        {
          "output_type": "stream",
          "name": "stdout",
          "text": [
            "tensor([[0.7436, 0.2313],\n",
            "        [0.2622, 0.2871],\n",
            "        [0.0420, 0.4401],\n",
            "        [0.9683, 0.7359]])\n"
          ]
        }
      ]
    },
    {
      "cell_type": "markdown",
      "source": [
        "## dtype이 long, 0으로 채워진 tensor"
      ],
      "metadata": {
        "id": "-gWXBJz9HNqN"
      }
    },
    {
      "cell_type": "code",
      "source": [
        "x= torch.zeros(4, 2, dtype =torch.long)\n",
        "print(x)"
      ],
      "metadata": {
        "colab": {
          "base_uri": "https://localhost:8080/"
        },
        "id": "PeNrOJjgGZAL",
        "outputId": "bb0c8d5d-73d3-42ea-d54b-a0507c82b8c0"
      },
      "execution_count": 6,
      "outputs": [
        {
          "output_type": "stream",
          "name": "stdout",
          "text": [
            "tensor([[0, 0],\n",
            "        [0, 0],\n",
            "        [0, 0],\n",
            "        [0, 0]])\n"
          ]
        }
      ]
    },
    {
      "cell_type": "code",
      "source": [
        "x= torch.tensor([3, 2.3])\n",
        "print(x)"
      ],
      "metadata": {
        "colab": {
          "base_uri": "https://localhost:8080/"
        },
        "id": "xMZa9meVLXtM",
        "outputId": "7951197f-87ed-4dbd-d242-68c93efc7dac"
      },
      "execution_count": 7,
      "outputs": [
        {
          "output_type": "stream",
          "name": "stdout",
          "text": [
            "tensor([3.0000, 2.3000])\n"
          ]
        }
      ]
    },
    {
      "cell_type": "code",
      "source": [
        "x = x.new_ones(2, 4, dtype = torch.double)\n",
        "print(x)"
      ],
      "metadata": {
        "colab": {
          "base_uri": "https://localhost:8080/"
        },
        "id": "C4IhgVykLfI9",
        "outputId": "976cf740-fcef-475c-fe6c-07e78293dc5f"
      },
      "execution_count": 8,
      "outputs": [
        {
          "output_type": "stream",
          "name": "stdout",
          "text": [
            "tensor([[1., 1., 1., 1.],\n",
            "        [1., 1., 1., 1.]], dtype=torch.float64)\n"
          ]
        }
      ]
    },
    {
      "cell_type": "code",
      "source": [
        "x = torch.rand_like(x, dtype = torch.float)\n",
        "print(x)"
      ],
      "metadata": {
        "colab": {
          "base_uri": "https://localhost:8080/"
        },
        "id": "WEnxbxO0Lo7P",
        "outputId": "72c3b391-96a0-4d7e-d508-e6539d06415f"
      },
      "execution_count": 10,
      "outputs": [
        {
          "output_type": "stream",
          "name": "stdout",
          "text": [
            "tensor([[0.8892, 0.0323, 0.7885, 0.2996],\n",
            "        [0.1725, 0.2274, 0.0124, 0.7085]])\n"
          ]
        }
      ]
    },
    {
      "cell_type": "code",
      "source": [
        "x.size()"
      ],
      "metadata": {
        "colab": {
          "base_uri": "https://localhost:8080/"
        },
        "id": "YqwIXpPFL_6M",
        "outputId": "6083d3f4-9299-4f6b-bcd8-9938da770986"
      },
      "execution_count": 11,
      "outputs": [
        {
          "output_type": "execute_result",
          "data": {
            "text/plain": [
              "torch.Size([2, 4])"
            ]
          },
          "metadata": {},
          "execution_count": 11
        }
      ]
    },
    {
      "cell_type": "markdown",
      "source": [
        "# 1. 텐서의 연산"
      ],
      "metadata": {
        "id": "6hBoP2DdMIOV"
      }
    },
    {
      "cell_type": "markdown",
      "source": [
        "## 덧셈"
      ],
      "metadata": {
        "id": "VPzEPhzvMOG7"
      }
    },
    {
      "cell_type": "code",
      "source": [
        "print(x)"
      ],
      "metadata": {
        "colab": {
          "base_uri": "https://localhost:8080/"
        },
        "id": "VXoqI3CnMHXM",
        "outputId": "0d3c3f9d-2ff0-41d1-e37c-cfb493d345a8"
      },
      "execution_count": 12,
      "outputs": [
        {
          "output_type": "stream",
          "name": "stdout",
          "text": [
            "tensor([[0.8892, 0.0323, 0.7885, 0.2996],\n",
            "        [0.1725, 0.2274, 0.0124, 0.7085]])\n"
          ]
        }
      ]
    },
    {
      "cell_type": "code",
      "source": [
        "y = torch.rand(2, 4)\n",
        "print(y)\n",
        "print(x + y)"
      ],
      "metadata": {
        "colab": {
          "base_uri": "https://localhost:8080/"
        },
        "id": "S6KNABlWMQ8F",
        "outputId": "560ae450-ecd2-493a-da54-6fd4fa54ea1f"
      },
      "execution_count": 14,
      "outputs": [
        {
          "output_type": "stream",
          "name": "stdout",
          "text": [
            "tensor([[0.4153, 0.5043, 0.1995, 0.1600],\n",
            "        [0.9219, 0.7317, 0.1600, 0.0800]])\n",
            "tensor([[1.3045, 0.5366, 0.9881, 0.4595],\n",
            "        [1.0943, 0.9591, 0.1725, 0.7885]])\n"
          ]
        }
      ]
    },
    {
      "cell_type": "markdown",
      "source": [
        "## 덧셈 2"
      ],
      "metadata": {
        "id": "UqKYSeNKMYto"
      }
    },
    {
      "cell_type": "code",
      "source": [
        "print(torch.add(x, y))"
      ],
      "metadata": {
        "colab": {
          "base_uri": "https://localhost:8080/"
        },
        "id": "GihMnZhsMUgc",
        "outputId": "1001e24c-50b9-44ad-fa20-0b02211b18c3"
      },
      "execution_count": 15,
      "outputs": [
        {
          "output_type": "stream",
          "name": "stdout",
          "text": [
            "tensor([[1.3045, 0.5366, 0.9881, 0.4595],\n",
            "        [1.0943, 0.9591, 0.1725, 0.7885]])\n"
          ]
        }
      ]
    },
    {
      "cell_type": "markdown",
      "source": [
        "## 덧셈 3\n",
        "* 텐서를 인자로 활용"
      ],
      "metadata": {
        "id": "mXJyqMCDMfPk"
      }
    },
    {
      "cell_type": "code",
      "source": [
        "result = torch.empty(2,4)\n",
        "torch.add(x, y, out = result)\n",
        "print(result)"
      ],
      "metadata": {
        "colab": {
          "base_uri": "https://localhost:8080/"
        },
        "id": "RfKqfhcPMeCc",
        "outputId": "22f528d6-5ca0-47ab-afb2-a2697090dc52"
      },
      "execution_count": 17,
      "outputs": [
        {
          "output_type": "stream",
          "name": "stdout",
          "text": [
            "tensor([[1.3045, 0.5366, 0.9881, 0.4595],\n",
            "        [1.0943, 0.9591, 0.1725, 0.7885]])\n"
          ]
        }
      ]
    },
    {
      "cell_type": "markdown",
      "source": [
        "## 덧셈 4\n",
        "* in-place 방식 : 텐서의 값을 변경하는 연산 뒤에는 '_'가 붙음"
      ],
      "metadata": {
        "id": "kkVn_g2OOHqb"
      }
    },
    {
      "cell_type": "code",
      "source": [
        "print(x)\n",
        "print(y)\n",
        "y.add_(x)\n",
        "print(y)"
      ],
      "metadata": {
        "colab": {
          "base_uri": "https://localhost:8080/"
        },
        "id": "C2nyUf37Mqz-",
        "outputId": "cd29d437-44f7-43a5-d22c-b8a987fe9ac9"
      },
      "execution_count": 18,
      "outputs": [
        {
          "output_type": "stream",
          "name": "stdout",
          "text": [
            "tensor([[0.8892, 0.0323, 0.7885, 0.2996],\n",
            "        [0.1725, 0.2274, 0.0124, 0.7085]])\n",
            "tensor([[0.4153, 0.5043, 0.1995, 0.1600],\n",
            "        [0.9219, 0.7317, 0.1600, 0.0800]])\n",
            "tensor([[1.3045, 0.5366, 0.9881, 0.4595],\n",
            "        [1.0943, 0.9591, 0.1725, 0.7885]])\n"
          ]
        }
      ]
    },
    {
      "cell_type": "markdown",
      "source": [
        "## 그 외의 연산\n",
        "* torch.sub : 뺄셈\n",
        "* torch.mul : 곱셈\n",
        "* torch.div : 나눗셈\n",
        "* torch.mm : 내적(dot product)"
      ],
      "metadata": {
        "id": "IUcF1YiQOewg"
      }
    },
    {
      "cell_type": "code",
      "source": [
        "x = torch.Tensor([[1,3],[5,7]])\n",
        "y = torch.Tensor([[2,4],[6,8]])\n",
        "\n",
        "print(x -y)\n",
        "print(torch.sub(x, y))\n",
        "print(x.sub(y))"
      ],
      "metadata": {
        "colab": {
          "base_uri": "https://localhost:8080/"
        },
        "id": "aGtsbqtOOaOX",
        "outputId": "c469764d-3cd5-49a6-d69c-735bd112f98c"
      },
      "execution_count": 21,
      "outputs": [
        {
          "output_type": "stream",
          "name": "stdout",
          "text": [
            "tensor([[-1., -1.],\n",
            "        [-1., -1.]])\n",
            "tensor([[-1., -1.],\n",
            "        [-1., -1.]])\n",
            "tensor([[-1., -1.],\n",
            "        [-1., -1.]])\n"
          ]
        }
      ]
    },
    {
      "cell_type": "markdown",
      "source": [
        "## 텐서의 조작"
      ],
      "metadata": {
        "id": "8wUTT5HVPIdD"
      }
    },
    {
      "cell_type": "markdown",
      "source": [
        "### 인덱싱\n",
        "* 넘파이처럼 인덱싱 사용 가능"
      ],
      "metadata": {
        "id": "eFA_X7WTPK8r"
      }
    },
    {
      "cell_type": "code",
      "source": [
        "print(x)\n",
        "print(x[:,1])"
      ],
      "metadata": {
        "colab": {
          "base_uri": "https://localhost:8080/"
        },
        "id": "1TdJus99O8NH",
        "outputId": "388d14a3-a81f-41b3-c5ae-1787c9c7cdf2"
      },
      "execution_count": 22,
      "outputs": [
        {
          "output_type": "stream",
          "name": "stdout",
          "text": [
            "tensor([[1., 3.],\n",
            "        [5., 7.]])\n",
            "tensor([3., 7.])\n"
          ]
        }
      ]
    },
    {
      "cell_type": "markdown",
      "source": [
        "### view\n",
        "* 텐서의 크기나 모양을 변경"
      ],
      "metadata": {
        "id": "HAPGoQljPYws"
      }
    },
    {
      "cell_type": "code",
      "source": [
        "x = torch.randn(4, 5)\n",
        "y = x.view(20)\n",
        "z = x.view(5, -1)\n",
        "\n",
        "print(x.size())\n",
        "print(x)\n",
        "\n",
        "print(y.size())\n",
        "print(y)\n",
        "\n",
        "print(z.size())\n",
        "print(z)"
      ],
      "metadata": {
        "colab": {
          "base_uri": "https://localhost:8080/"
        },
        "id": "4Kx-QKD2PWSI",
        "outputId": "a07a8e57-c814-405a-d332-2baad4d14b7d"
      },
      "execution_count": 24,
      "outputs": [
        {
          "output_type": "stream",
          "name": "stdout",
          "text": [
            "torch.Size([4, 5])\n",
            "tensor([[-7.3866e-01,  8.0849e-01, -8.2815e-01,  4.4599e-01,  5.7199e-03],\n",
            "        [ 6.6442e-01,  6.9075e-01, -1.5768e+00,  2.2021e+00, -8.5064e-01],\n",
            "        [ 2.6829e-01, -8.5246e-01, -3.1653e-01, -4.9800e-03,  8.6953e-01],\n",
            "        [ 2.0000e+00, -2.1552e-01, -3.9279e-01,  7.6662e-04,  6.0157e-01]])\n",
            "torch.Size([20])\n",
            "tensor([-7.3866e-01,  8.0849e-01, -8.2815e-01,  4.4599e-01,  5.7199e-03,\n",
            "         6.6442e-01,  6.9075e-01, -1.5768e+00,  2.2021e+00, -8.5064e-01,\n",
            "         2.6829e-01, -8.5246e-01, -3.1653e-01, -4.9800e-03,  8.6953e-01,\n",
            "         2.0000e+00, -2.1552e-01, -3.9279e-01,  7.6662e-04,  6.0157e-01])\n",
            "torch.Size([5, 4])\n",
            "tensor([[-7.3866e-01,  8.0849e-01, -8.2815e-01,  4.4599e-01],\n",
            "        [ 5.7199e-03,  6.6442e-01,  6.9075e-01, -1.5768e+00],\n",
            "        [ 2.2021e+00, -8.5064e-01,  2.6829e-01, -8.5246e-01],\n",
            "        [-3.1653e-01, -4.9800e-03,  8.6953e-01,  2.0000e+00],\n",
            "        [-2.1552e-01, -3.9279e-01,  7.6662e-04,  6.0157e-01]])\n"
          ]
        }
      ]
    },
    {
      "cell_type": "markdown",
      "source": [
        "### item\n",
        "* 텐서의 값이 단 하나라도 존재하면 숫자값을 얻을 수 있음"
      ],
      "metadata": {
        "id": "u8CFLno7niPa"
      }
    },
    {
      "cell_type": "code",
      "source": [
        "x = torch.randn(1)\n",
        "print(x)\n",
        "print(x.item())\n",
        "print(x.dtype)"
      ],
      "metadata": {
        "colab": {
          "base_uri": "https://localhost:8080/"
        },
        "id": "Zrq9oqMdnR24",
        "outputId": "d4cf907b-8576-454d-bbd3-f10ff5bf4b4a"
      },
      "execution_count": 25,
      "outputs": [
        {
          "output_type": "stream",
          "name": "stdout",
          "text": [
            "tensor([0.9220])\n",
            "0.921959400177002\n",
            "torch.float32\n"
          ]
        }
      ]
    },
    {
      "cell_type": "markdown",
      "source": [
        "* 스칼라값 하나만 존재"
      ],
      "metadata": {
        "id": "Riax95Jsnp2z"
      }
    },
    {
      "cell_type": "markdown",
      "source": [
        "### squeeze\n",
        "* 차원을 축소"
      ],
      "metadata": {
        "id": "xK85URLAns_d"
      }
    },
    {
      "cell_type": "code",
      "source": [
        "tensor = torch.rand(1,3,3)\n",
        "tensor.shape"
      ],
      "metadata": {
        "colab": {
          "base_uri": "https://localhost:8080/"
        },
        "id": "_gHLehE9nwuz",
        "outputId": "ebce64f3-4868-49e4-ed12-56a3e240f1c2"
      },
      "execution_count": 27,
      "outputs": [
        {
          "output_type": "execute_result",
          "data": {
            "text/plain": [
              "torch.Size([1, 3, 3])"
            ]
          },
          "metadata": {},
          "execution_count": 27
        }
      ]
    },
    {
      "cell_type": "code",
      "source": [
        "t = tensor.squeeze()\n",
        "\n",
        "print(t)\n",
        "print(t.shape)"
      ],
      "metadata": {
        "colab": {
          "base_uri": "https://localhost:8080/"
        },
        "id": "uLKK4l2lo0EI",
        "outputId": "5267ceb1-365c-4669-8bae-bf1b0bb1003a"
      },
      "execution_count": 29,
      "outputs": [
        {
          "output_type": "stream",
          "name": "stdout",
          "text": [
            "tensor([[0.7332, 0.5606, 0.7932],\n",
            "        [0.7772, 0.5600, 0.4649],\n",
            "        [0.9912, 0.1553, 0.4088]])\n",
            "torch.Size([3, 3])\n"
          ]
        }
      ]
    },
    {
      "cell_type": "markdown",
      "source": [
        "### unsqueeze(차원 증가)"
      ],
      "metadata": {
        "id": "EAhob8x3o980"
      }
    },
    {
      "cell_type": "code",
      "source": [
        "tensor = torch.rand(1,3,3)\n",
        "tensor.shape"
      ],
      "metadata": {
        "colab": {
          "base_uri": "https://localhost:8080/"
        },
        "id": "z3UBurxJo7AZ",
        "outputId": "04286e22-507d-46c5-d43e-79c87e3cc9ca"
      },
      "execution_count": 30,
      "outputs": [
        {
          "output_type": "execute_result",
          "data": {
            "text/plain": [
              "torch.Size([1, 3, 3])"
            ]
          },
          "metadata": {},
          "execution_count": 30
        }
      ]
    },
    {
      "cell_type": "code",
      "source": [
        "t = tensor.unsqueeze(dim = 0)\n",
        "\n",
        "print(t)\n",
        "print(t.shape)"
      ],
      "metadata": {
        "colab": {
          "base_uri": "https://localhost:8080/"
        },
        "id": "Jj6OJtgSpDkx",
        "outputId": "c73a6118-a8c9-4de1-94fe-92dddef9d1a7"
      },
      "execution_count": 32,
      "outputs": [
        {
          "output_type": "stream",
          "name": "stdout",
          "text": [
            "tensor([[[[0.6700, 0.5907, 0.7296],\n",
            "          [0.6503, 0.2847, 0.7842],\n",
            "          [0.3363, 0.2386, 0.3970]]]])\n",
            "torch.Size([1, 1, 3, 3])\n"
          ]
        }
      ]
    },
    {
      "cell_type": "markdown",
      "source": [
        "### stack\n",
        "* 텐서간 결합"
      ],
      "metadata": {
        "id": "qXj7gzARpa5J"
      }
    },
    {
      "cell_type": "code",
      "source": [
        "x = torch.FloatTensor([1,4])\n",
        "y = torch.FloatTensor([2,5])\n",
        "z = torch.FloatTensor([3,6])\n",
        "\n",
        "print(torch.stack([x,y,z]))"
      ],
      "metadata": {
        "colab": {
          "base_uri": "https://localhost:8080/"
        },
        "id": "QpPfItqGpFcn",
        "outputId": "494665b2-dc35-4ac6-c999-c52380c38c7a"
      },
      "execution_count": 33,
      "outputs": [
        {
          "output_type": "stream",
          "name": "stdout",
          "text": [
            "tensor([[1., 4.],\n",
            "        [2., 5.],\n",
            "        [3., 6.]])\n"
          ]
        }
      ]
    },
    {
      "cell_type": "markdown",
      "source": [
        "### cat\n",
        "* 텐서를 결합하는 메소드\n",
        "* 쌓을 dim이 무조건 존재해야 가능"
      ],
      "metadata": {
        "id": "nzJXcU_upxlJ"
      }
    },
    {
      "cell_type": "code",
      "source": [
        "a = torch.FloatTensor(1,1,3,3)\n",
        "b = torch.FloatTensor(1,1,3,3)\n",
        "c = torch.cat((a,b), dim = 0)\n",
        "\n",
        "print(c)\n",
        "print(c.shape)"
      ],
      "metadata": {
        "colab": {
          "base_uri": "https://localhost:8080/"
        },
        "id": "Ws77zEljpvuT",
        "outputId": "cc0da077-6b97-47d8-b3f3-cb13dc3e295d"
      },
      "execution_count": 36,
      "outputs": [
        {
          "output_type": "stream",
          "name": "stdout",
          "text": [
            "tensor([[[[1.0338e+28, 3.0928e-41, 3.5032e-44],\n",
            "          [0.0000e+00,        nan, 0.0000e+00],\n",
            "          [4.4721e+21, 3.0104e+29, 7.1853e+22]]],\n",
            "\n",
            "\n",
            "        [[[1.0338e+28, 3.0928e-41, 3.9236e-44],\n",
            "          [0.0000e+00,        nan, 0.0000e+00],\n",
            "          [4.4721e+21, 2.8799e+32, 1.3816e+31]]]])\n",
            "torch.Size([2, 1, 3, 3])\n"
          ]
        }
      ]
    },
    {
      "cell_type": "markdown",
      "source": [
        "### chuck\n",
        "* 텐서를 여러개로 나눔\n",
        "* 몇 개로 나눌 것인가"
      ],
      "metadata": {
        "id": "mLwMLdqfqd2F"
      }
    },
    {
      "cell_type": "code",
      "source": [
        "tensor = torch.randn(3,6)\n",
        "t1,t2,t3 = torch.chunk(tensor, 3, dim = 1)\n",
        "\n",
        "print(tensor)\n",
        "print(t1)\n",
        "print(t2)"
      ],
      "metadata": {
        "colab": {
          "base_uri": "https://localhost:8080/"
        },
        "id": "NqOUnpbKqK_x",
        "outputId": "9df16fd8-009c-4822-a045-806c9482ab44"
      },
      "execution_count": 39,
      "outputs": [
        {
          "output_type": "stream",
          "name": "stdout",
          "text": [
            "tensor([[ 1.4761, -0.6633,  1.8765,  2.1984,  0.0548, -0.5214],\n",
            "        [-0.4476,  0.5942,  1.4162, -3.0600, -0.4497, -0.1035],\n",
            "        [ 2.0431, -0.3467,  1.7251, -0.3290,  1.7909,  0.8809]])\n",
            "tensor([[ 1.4761, -0.6633],\n",
            "        [-0.4476,  0.5942],\n",
            "        [ 2.0431, -0.3467]])\n",
            "tensor([[ 1.8765,  2.1984],\n",
            "        [ 1.4162, -3.0600],\n",
            "        [ 1.7251, -0.3290]])\n"
          ]
        }
      ]
    },
    {
      "cell_type": "markdown",
      "source": [
        "### split\n",
        "* 하나의 텐서당 크기가 얼마인지\n",
        "* 몇 개씩 나눌 것인가"
      ],
      "metadata": {
        "id": "RVXVl0STqiHd"
      }
    },
    {
      "cell_type": "code",
      "source": [
        "tensor = torch.randn(3,6)\n",
        "t1,t2= torch.split(tensor, 3, dim = 1)\n",
        "\n",
        "print(tensor)\n",
        "print(t1)\n",
        "print(t2)"
      ],
      "metadata": {
        "colab": {
          "base_uri": "https://localhost:8080/"
        },
        "id": "pJIqq7fNqnLy",
        "outputId": "95199690-46fa-4531-b527-859e79b8e68e"
      },
      "execution_count": 41,
      "outputs": [
        {
          "output_type": "stream",
          "name": "stdout",
          "text": [
            "tensor([[ 1.1054,  0.7048,  1.1899, -0.0785,  0.3468,  0.7595],\n",
            "        [-0.5458, -0.4991, -0.7236,  2.4776,  2.2690, -0.3850],\n",
            "        [-1.6897, -0.8519, -1.7531,  0.5780, -0.5689, -1.3023]])\n",
            "tensor([[ 1.1054,  0.7048,  1.1899],\n",
            "        [-0.5458, -0.4991, -0.7236],\n",
            "        [-1.6897, -0.8519, -1.7531]])\n",
            "tensor([[-0.0785,  0.3468,  0.7595],\n",
            "        [ 2.4776,  2.2690, -0.3850],\n",
            "        [ 0.5780, -0.5689, -1.3023]])\n"
          ]
        }
      ]
    },
    {
      "cell_type": "markdown",
      "source": [
        "### torch <-> numpy\n",
        "* TorchTensor를 numpy로 변환 가능\n",
        "* Tensor가 cpu상에 있다면 numpy 배열은 메모리를 공유하므로 변화에 영향을 받음"
      ],
      "metadata": {
        "id": "xkKh6cGarUFn"
      }
    },
    {
      "cell_type": "code",
      "source": [
        "|a = torch.ones(7)\n",
        "print(a)"
      ],
      "metadata": {
        "colab": {
          "base_uri": "https://localhost:8080/"
        },
        "id": "Wnux3Za3rEb6",
        "outputId": "20aa71fb-6602-4729-91af-09a63eabb63c"
      },
      "execution_count": 44,
      "outputs": [
        {
          "output_type": "stream",
          "name": "stdout",
          "text": [
            "tensor([1., 1., 1., 1., 1., 1., 1.])\n"
          ]
        }
      ]
    },
    {
      "cell_type": "code",
      "source": [
        "b = a.numpy()\n",
        "print(b)"
      ],
      "metadata": {
        "colab": {
          "base_uri": "https://localhost:8080/"
        },
        "id": "uNkHPwZ6rkE6",
        "outputId": "199fe108-aeed-4c58-e86b-386b76189c48"
      },
      "execution_count": 45,
      "outputs": [
        {
          "output_type": "stream",
          "name": "stdout",
          "text": [
            "[1. 1. 1. 1. 1. 1. 1.]\n"
          ]
        }
      ]
    },
    {
      "cell_type": "code",
      "source": [
        "a.add_(1)\n",
        "print(a)\n",
        "print(b)"
      ],
      "metadata": {
        "colab": {
          "base_uri": "https://localhost:8080/"
        },
        "id": "-YfWNcaIrqZx",
        "outputId": "cb239454-7943-4ef4-cb11-5ab6485375d3"
      },
      "execution_count": 46,
      "outputs": [
        {
          "output_type": "stream",
          "name": "stdout",
          "text": [
            "tensor([2., 2., 2., 2., 2., 2., 2.])\n",
            "[2. 2. 2. 2. 2. 2. 2.]\n"
          ]
        }
      ]
    },
    {
      "cell_type": "code",
      "source": [
        "import numpy as np\n",
        "\n",
        "a = np.ones(7)\n",
        "b = torch.from_numpy(a)\n",
        "np.add(a, 1, out = a)\n",
        "print(a)\n",
        "print(b)"
      ],
      "metadata": {
        "colab": {
          "base_uri": "https://localhost:8080/"
        },
        "id": "D7uvLlUPsOCP",
        "outputId": "107370f7-7fd3-44c6-b2db-858882950f0e"
      },
      "execution_count": 49,
      "outputs": [
        {
          "output_type": "stream",
          "name": "stdout",
          "text": [
            "[2. 2. 2. 2. 2. 2. 2.]\n",
            "tensor([2., 2., 2., 2., 2., 2., 2.], dtype=torch.float64)\n"
          ]
        }
      ]
    },
    {
      "cell_type": "markdown",
      "source": [
        "## CUDA Tensors\n",
        "* .to 메소드를 사용하여 텐서의 이동이 가능"
      ],
      "metadata": {
        "id": "7_j30s_xsC8u"
      }
    },
    {
      "cell_type": "code",
      "source": [
        "x= torch.randn(1)\n",
        "print(x)\n",
        "print(x.item())\n",
        "print(x.dtype)"
      ],
      "metadata": {
        "colab": {
          "base_uri": "https://localhost:8080/"
        },
        "id": "lJHQ99fpr2wM",
        "outputId": "0de8d20e-7a48-49cc-e22d-035839f5e379"
      },
      "execution_count": 3,
      "outputs": [
        {
          "output_type": "stream",
          "name": "stdout",
          "text": [
            "tensor([1.0158])\n",
            "1.0157581567764282\n",
            "torch.float32\n"
          ]
        }
      ]
    },
    {
      "cell_type": "code",
      "source": [
        "import torch\n",
        "device = torch.device('cuda' if torch.cuda.is_available else 'cpu')\n",
        "\n",
        "y =torch.ones_like(x, device = device)\n",
        "x = x.to(device)\n",
        "z = x+y\n",
        "\n",
        "print(device)\n",
        "print(z)\n",
        "print(z.to('cpu', torch.double))"
      ],
      "metadata": {
        "colab": {
          "base_uri": "https://localhost:8080/"
        },
        "id": "me0n5XvFuUs7",
        "outputId": "20cd3167-986f-4675-8a4c-7c15f16c618d"
      },
      "execution_count": 5,
      "outputs": [
        {
          "output_type": "stream",
          "name": "stdout",
          "text": [
            "cuda\n",
            "tensor([2.0158], device='cuda:0')\n",
            "tensor([2.0158], dtype=torch.float64)\n"
          ]
        }
      ]
    },
    {
      "cell_type": "markdown",
      "source": [
        "# 2. AUTOGRAD(자동 미분)\n",
        "* Tensor의 모든 연산에 대해 자동 미분 제공\n",
        "* 이는 코드를 어떻게 작성하여 실행하느냐에 다라 역전파가 정의\n",
        "* backprop를 위한 미분값을 자동 계산"
      ],
      "metadata": {
        "id": "UnnKl5v2vhKK"
      }
    },
    {
      "cell_type": "code",
      "source": [
        "import torch\n",
        "x = torch.ones(3,3,requires_grad = True)\n",
        "print(x)"
      ],
      "metadata": {
        "colab": {
          "base_uri": "https://localhost:8080/"
        },
        "id": "1Kz9iN1svFOs",
        "outputId": "32b5452e-fdd9-453c-f0e4-7277fc489711"
      },
      "execution_count": 10,
      "outputs": [
        {
          "output_type": "stream",
          "name": "stdout",
          "text": [
            "tensor([[1., 1., 1.],\n",
            "        [1., 1., 1.],\n",
            "        [1., 1., 1.]], requires_grad=True)\n"
          ]
        }
      ]
    },
    {
      "cell_type": "code",
      "source": [
        "y = x + 5\n",
        "print(y)"
      ],
      "metadata": {
        "colab": {
          "base_uri": "https://localhost:8080/"
        },
        "id": "Ye7YV441wOg9",
        "outputId": "eddb7219-ce6a-4f19-dc20-11f897406962"
      },
      "execution_count": 11,
      "outputs": [
        {
          "output_type": "stream",
          "name": "stdout",
          "text": [
            "tensor([[6., 6., 6.],\n",
            "        [6., 6., 6.],\n",
            "        [6., 6., 6.]], grad_fn=<AddBackward0>)\n"
          ]
        }
      ]
    },
    {
      "cell_type": "code",
      "source": [
        "print(y.grad_fn)"
      ],
      "metadata": {
        "colab": {
          "base_uri": "https://localhost:8080/"
        },
        "id": "Abcu85yTzW_d",
        "outputId": "d5069ad2-c8d9-49ba-ac62-5486b93462e0"
      },
      "execution_count": 12,
      "outputs": [
        {
          "output_type": "stream",
          "name": "stdout",
          "text": [
            "<AddBackward0 object at 0x7f7743868b10>\n"
          ]
        }
      ]
    },
    {
      "cell_type": "code",
      "source": [
        "z = y * y +2\n",
        "out = z.mean()\n",
        "print(z, out)"
      ],
      "metadata": {
        "colab": {
          "base_uri": "https://localhost:8080/"
        },
        "id": "XSVNPwDozeHE",
        "outputId": "4f97d46a-9994-4c24-d2b7-0bb4c4a0390a"
      },
      "execution_count": 14,
      "outputs": [
        {
          "output_type": "stream",
          "name": "stdout",
          "text": [
            "tensor([[38., 38., 38.],\n",
            "        [38., 38., 38.],\n",
            "        [38., 38., 38.]], grad_fn=<AddBackward0>) tensor(38., grad_fn=<MeanBackward0>)\n"
          ]
        }
      ]
    },
    {
      "cell_type": "code",
      "source": [
        "a = torch.randn(3, 3)\n",
        "a = ((a*3) / (a - 1))\n",
        "print(a.requires_grad)\n",
        "\n",
        "a.requires_grad_(True)\n",
        "print(a.requires_grad)\n",
        "\n",
        "b = (a*a).sum()\n",
        "print(b.grad_fn)"
      ],
      "metadata": {
        "colab": {
          "base_uri": "https://localhost:8080/"
        },
        "id": "zmBhzL40zgyK",
        "outputId": "783a9680-ae91-4426-d5d5-cce4e4380bc9"
      },
      "execution_count": 19,
      "outputs": [
        {
          "output_type": "stream",
          "name": "stdout",
          "text": [
            "False\n",
            "True\n",
            "<SumBackward0 object at 0x7f77315a7950>\n"
          ]
        }
      ]
    },
    {
      "cell_type": "markdown",
      "source": [
        "## 기울기(Gradient)\n",
        "* 역전파 : .backward()를 통해 역전파 계산 가능"
      ],
      "metadata": {
        "id": "VGd2_iGd0nb1"
      }
    },
    {
      "cell_type": "code",
      "source": [
        "out.backward()"
      ],
      "metadata": {
        "id": "uq2U_lG7zgvb"
      },
      "execution_count": 21,
      "outputs": []
    },
    {
      "cell_type": "code",
      "source": [
        "print(x.grad)"
      ],
      "metadata": {
        "colab": {
          "base_uri": "https://localhost:8080/"
        },
        "id": "0_JakVPqzgsP",
        "outputId": "2dcdd9a2-160e-4018-a8de-d169a8d70fe7"
      },
      "execution_count": 23,
      "outputs": [
        {
          "output_type": "stream",
          "name": "stdout",
          "text": [
            "tensor([[1.3333, 1.3333, 1.3333],\n",
            "        [1.3333, 1.3333, 1.3333],\n",
            "        [1.3333, 1.3333, 1.3333]])\n"
          ]
        }
      ]
    },
    {
      "cell_type": "code",
      "source": [
        "x= torch.randn(3, requires_grad= True)\n",
        "\n",
        "y = x * 2\n",
        "while y.data.norm() < 1000:\n",
        "  y = y*2\n",
        "print(y)"
      ],
      "metadata": {
        "colab": {
          "base_uri": "https://localhost:8080/"
        },
        "id": "J6JzUAxMzgpI",
        "outputId": "d3b1bea6-5b11-4cfe-cecf-15b52d2b6084"
      },
      "execution_count": 24,
      "outputs": [
        {
          "output_type": "stream",
          "name": "stdout",
          "text": [
            "tensor([-387.9354,   72.4190, 1262.5653], grad_fn=<MulBackward0>)\n"
          ]
        }
      ]
    },
    {
      "cell_type": "code",
      "source": [
        "v = torch.tensor([0.1,1.0, 0.0001], dtype = torch.float)\n",
        "y.backward(v)\n",
        "\n",
        "print(x.grad)"
      ],
      "metadata": {
        "colab": {
          "base_uri": "https://localhost:8080/"
        },
        "id": "e2z8UCqFzgmD",
        "outputId": "c8e2c76e-ceb3-4d44-d9a3-bab89aab5536"
      },
      "execution_count": 25,
      "outputs": [
        {
          "output_type": "stream",
          "name": "stdout",
          "text": [
            "tensor([5.1200e+01, 5.1200e+02, 5.1200e-02])\n"
          ]
        }
      ]
    },
    {
      "cell_type": "markdown",
      "source": [
        "* with torch.no_grad()를 활용해 gradient의 업데이트를 하지않음"
      ],
      "metadata": {
        "id": "qG6ERwHk2tmG"
      }
    },
    {
      "cell_type": "code",
      "source": [
        "print(x.requires_grad)\n",
        "print((x**2).requires_grad)\n",
        "\n",
        "with torch.no_grad():\n",
        "  print((x**2).requires_grad)"
      ],
      "metadata": {
        "colab": {
          "base_uri": "https://localhost:8080/"
        },
        "id": "a7dTeHD2zgjV",
        "outputId": "07f47e39-719e-4cb8-f99c-4294188f5de7"
      },
      "execution_count": 27,
      "outputs": [
        {
          "output_type": "stream",
          "name": "stdout",
          "text": [
            "True\n",
            "True\n",
            "False\n"
          ]
        }
      ]
    },
    {
      "cell_type": "markdown",
      "source": [
        "* detach() : 내용물은 같지만 requires_grad가 다른 새로운 tensor를 가져올때"
      ],
      "metadata": {
        "id": "0ZWXWqHr23oj"
      }
    },
    {
      "cell_type": "code",
      "source": [
        "print(x.requires_grad)\n",
        "y = x.detach()\n",
        "\n",
        "print(y.requires_grad)\n",
        "print(x.eq(y).all())"
      ],
      "metadata": {
        "colab": {
          "base_uri": "https://localhost:8080/"
        },
        "id": "9VdS8b62zggS",
        "outputId": "b4266f41-f429-4a9a-c65d-d5519edf6738"
      },
      "execution_count": 29,
      "outputs": [
        {
          "output_type": "stream",
          "name": "stdout",
          "text": [
            "True\n",
            "False\n",
            "tensor(True)\n"
          ]
        }
      ]
    },
    {
      "cell_type": "markdown",
      "source": [
        "## 자동미분 흐름 다시보기(1)"
      ],
      "metadata": {
        "id": "FHU91Fu93bun"
      }
    },
    {
      "cell_type": "code",
      "source": [
        "a = torch.ones(2,2)\n",
        "print(a)"
      ],
      "metadata": {
        "colab": {
          "base_uri": "https://localhost:8080/"
        },
        "id": "fcP0ia9Zzgde",
        "outputId": "11aab210-0ce5-4d07-84f7-3a13c6522e66"
      },
      "execution_count": 30,
      "outputs": [
        {
          "output_type": "stream",
          "name": "stdout",
          "text": [
            "tensor([[1., 1.],\n",
            "        [1., 1.]])\n"
          ]
        }
      ]
    },
    {
      "cell_type": "code",
      "source": [
        "a = torch.ones(2, 2, requires_grad= True)\n",
        "print(a)"
      ],
      "metadata": {
        "colab": {
          "base_uri": "https://localhost:8080/"
        },
        "id": "-MNP5kTgzga7",
        "outputId": "614142bf-ff1c-401c-95c1-4e2c646a4681"
      },
      "execution_count": 31,
      "outputs": [
        {
          "output_type": "stream",
          "name": "stdout",
          "text": [
            "tensor([[1., 1.],\n",
            "        [1., 1.]], requires_grad=True)\n"
          ]
        }
      ]
    },
    {
      "cell_type": "code",
      "source": [
        "print(a)\n",
        "print(a.grad)\n",
        "print(a.grad_fn)"
      ],
      "metadata": {
        "colab": {
          "base_uri": "https://localhost:8080/"
        },
        "id": "sx7MvgGtzgX2",
        "outputId": "58d210d1-d343-4d09-a27a-eb444ac4b8a7"
      },
      "execution_count": 32,
      "outputs": [
        {
          "output_type": "stream",
          "name": "stdout",
          "text": [
            "tensor([[1., 1.],\n",
            "        [1., 1.]], requires_grad=True)\n",
            "None\n",
            "None\n"
          ]
        }
      ]
    },
    {
      "cell_type": "markdown",
      "source": [
        "* a의 grad_fn이 none인 이유 : 직접적으로 계산된 부분이 없기 때문"
      ],
      "metadata": {
        "id": "5AmhrOZ64r9s"
      }
    },
    {
      "cell_type": "markdown",
      "source": [
        "## 자동 미분 흐름 다시 보기(2)\n",
        "* grad 값을 넣어서 backward\n",
        "* .grad의 값이 none인것은 gradient값이 필요하지 않기 때문 "
      ],
      "metadata": {
        "id": "mlSiCtna5Pi8"
      }
    },
    {
      "cell_type": "code",
      "source": [
        "x = torch.ones(3, requires_grad= True)\n",
        "y = (x ** 2)\n",
        "z = y **2 + x\n",
        "out = z.sum()\n",
        "print(out)"
      ],
      "metadata": {
        "colab": {
          "base_uri": "https://localhost:8080/"
        },
        "id": "kQC7s-RAzgVF",
        "outputId": "edbd724a-671c-40bb-f72b-beeb84d973f3"
      },
      "execution_count": 33,
      "outputs": [
        {
          "output_type": "stream",
          "name": "stdout",
          "text": [
            "tensor(6., grad_fn=<SumBackward0>)\n"
          ]
        }
      ]
    },
    {
      "cell_type": "code",
      "source": [
        "grad = torch.Tensor([0.1,1,100])\n",
        "z.backward(grad)"
      ],
      "metadata": {
        "id": "encyXSBUzgSg"
      },
      "execution_count": 34,
      "outputs": []
    },
    {
      "cell_type": "code",
      "source": [
        "print('x.data : ', x.data)\n",
        "print('x.grad : ', x.grad)\n",
        "print('x.grad_fn : ', x.grad_fn)"
      ],
      "metadata": {
        "colab": {
          "base_uri": "https://localhost:8080/"
        },
        "id": "rwWTdXUozgPX",
        "outputId": "904b1d77-e751-4b73-b308-45a17aa37c1b"
      },
      "execution_count": 35,
      "outputs": [
        {
          "output_type": "stream",
          "name": "stdout",
          "text": [
            "x.data :  tensor([1., 1., 1.])\n",
            "x.grad :  tensor([  0.5000,   5.0000, 500.0000])\n",
            "x.grad_fn :  None\n"
          ]
        }
      ]
    },
    {
      "cell_type": "code",
      "source": [
        "print('y.data : ', y.data)\n",
        "print('y.grad : ', y.grad)\n",
        "print('y.grad_fn : ', y.grad_fn)"
      ],
      "metadata": {
        "colab": {
          "base_uri": "https://localhost:8080/"
        },
        "id": "EKcz1LDV6M3M",
        "outputId": "4aa26ab2-2ab4-491d-a836-2b32a95e4fa8"
      },
      "execution_count": 36,
      "outputs": [
        {
          "output_type": "stream",
          "name": "stdout",
          "text": [
            "y.data :  tensor([1., 1., 1.])\n",
            "y.grad :  None\n",
            "y.grad_fn :  <PowBackward0 object at 0x7f7730cd0cd0>\n"
          ]
        },
        {
          "output_type": "stream",
          "name": "stderr",
          "text": [
            "/usr/local/lib/python3.7/dist-packages/torch/_tensor.py:1013: UserWarning: The .grad attribute of a Tensor that is not a leaf Tensor is being accessed. Its .grad attribute won't be populated during autograd.backward(). If you indeed want the .grad field to be populated for a non-leaf Tensor, use .retain_grad() on the non-leaf Tensor. If you access the non-leaf Tensor by mistake, make sure you access the leaf Tensor instead. See github.com/pytorch/pytorch/pull/30531 for more informations. (Triggered internally at  aten/src/ATen/core/TensorBody.h:417.)\n",
            "  return self._grad\n"
          ]
        }
      ]
    },
    {
      "cell_type": "code",
      "source": [
        "print('z.data : ', z.data)\n",
        "print('z.grad : ', z.grad)\n",
        "print('z.grad_fn : ', z.grad_fn)"
      ],
      "metadata": {
        "colab": {
          "base_uri": "https://localhost:8080/"
        },
        "id": "LCr5tRXA7ClV",
        "outputId": "25be61f8-3c8a-48b9-df03-80588c2bd4c6"
      },
      "execution_count": 37,
      "outputs": [
        {
          "output_type": "stream",
          "name": "stdout",
          "text": [
            "z.data :  tensor([2., 2., 2.])\n",
            "z.grad :  None\n",
            "z.grad_fn :  <AddBackward0 object at 0x7f7730d34450>\n"
          ]
        },
        {
          "output_type": "stream",
          "name": "stderr",
          "text": [
            "/usr/local/lib/python3.7/dist-packages/torch/_tensor.py:1013: UserWarning: The .grad attribute of a Tensor that is not a leaf Tensor is being accessed. Its .grad attribute won't be populated during autograd.backward(). If you indeed want the .grad field to be populated for a non-leaf Tensor, use .retain_grad() on the non-leaf Tensor. If you access the non-leaf Tensor by mistake, make sure you access the leaf Tensor instead. See github.com/pytorch/pytorch/pull/30531 for more informations. (Triggered internally at  aten/src/ATen/core/TensorBody.h:417.)\n",
            "  return self._grad\n"
          ]
        }
      ]
    },
    {
      "cell_type": "markdown",
      "source": [
        "#3. nn & nn.functional\n",
        "* 같은 기능이지만 조금씩 다름\n",
        "* autograd 작업들을 두 패키지를 통해 진행 가능"
      ],
      "metadata": {
        "id": "r3ub000G7Iaq"
      }
    },
    {
      "cell_type": "markdown",
      "source": [
        "## nn패키지\n",
        "* 주로 가중치, 편향값들이 내부에서 자동으로 생성되는 레이어들을 사용할 때\n",
        "* weight값들을 직접 선언 안함 "
      ],
      "metadata": {
        "id": "l5QkU8_w8SJ3"
      }
    },
    {
      "cell_type": "code",
      "source": [
        "import torch\n",
        "import torch.nn as nn"
      ],
      "metadata": {
        "id": "4DSwPaRk6M0R"
      },
      "execution_count": 38,
      "outputs": []
    },
    {
      "cell_type": "markdown",
      "source": [
        "### Convolution Layer 예시 (1)"
      ],
      "metadata": {
        "id": "QWJxjJqy89bH"
      }
    },
    {
      "cell_type": "code",
      "source": [
        "m = nn.Conv2d(16, 33, 3, stride = 2)\n",
        "m = nn.Conv2d(16, 33, (3, 5), stride = (2, 1), padding = (4,2), dilation = (3,1))\n",
        "\n",
        "input = torch.randn(20,16,50,100)\n",
        "print(input)\n",
        "output = m(input)"
      ],
      "metadata": {
        "colab": {
          "base_uri": "https://localhost:8080/"
        },
        "id": "LVtmAEiT6MxP",
        "outputId": "eafd6e43-b143-4c4e-f002-ad158141329c"
      },
      "execution_count": 43,
      "outputs": [
        {
          "output_type": "stream",
          "name": "stdout",
          "text": [
            "tensor([[[[ 2.1090e-01,  2.6674e-01, -1.8074e-01,  ..., -1.2108e-01,\n",
            "            1.4672e+00, -4.1949e-01],\n",
            "          [ 7.8039e-01, -1.2492e+00,  3.0965e-01,  ...,  3.4091e-01,\n",
            "           -7.2598e-01,  2.7192e-01],\n",
            "          [-1.2286e+00,  8.8792e-01,  5.9790e-01,  ..., -1.3819e+00,\n",
            "            3.4954e-01, -3.6803e-01],\n",
            "          ...,\n",
            "          [-1.9172e-01, -9.3747e-01, -6.4208e-01,  ..., -3.0618e-01,\n",
            "           -4.0574e-01,  5.5699e-01],\n",
            "          [-2.1923e-01,  6.2655e-01,  4.3703e-01,  ...,  5.3036e-01,\n",
            "            1.1934e+00,  4.7785e-01],\n",
            "          [-4.6769e-01,  1.4332e+00,  6.9248e-01,  ...,  1.6961e+00,\n",
            "           -1.2120e+00, -1.3723e+00]],\n",
            "\n",
            "         [[ 1.2466e+00, -1.7530e-01,  5.1447e-01,  ...,  1.8943e-01,\n",
            "           -7.9804e-01,  2.6757e-01],\n",
            "          [ 1.1233e+00, -1.6416e-02,  1.3331e+00,  ..., -1.3797e+00,\n",
            "           -1.5297e+00, -1.4189e+00],\n",
            "          [-9.3090e-01,  2.2775e-01, -5.4515e-01,  ..., -1.1000e+00,\n",
            "           -4.9072e-01, -7.7863e-01],\n",
            "          ...,\n",
            "          [ 2.5264e-01, -1.6777e+00, -2.9756e-01,  ..., -1.2012e+00,\n",
            "            5.2700e-01, -1.5194e+00],\n",
            "          [ 4.0664e-01, -3.4087e-01, -7.5615e-02,  ..., -1.3851e+00,\n",
            "            1.2916e+00, -1.8876e-01],\n",
            "          [ 1.5262e+00, -2.0682e+00, -1.7080e+00,  ...,  2.2558e-01,\n",
            "            2.2141e-01, -1.1600e+00]],\n",
            "\n",
            "         [[-1.1158e+00,  4.5286e-01, -2.7821e-01,  ...,  1.8830e-01,\n",
            "           -6.9264e-01,  1.0603e+00],\n",
            "          [-1.0981e+00, -1.4316e+00, -3.1902e-01,  ...,  1.2980e-01,\n",
            "           -1.0969e+00,  1.8919e+00],\n",
            "          [-2.1489e+00, -1.1243e+00,  2.9938e-01,  ..., -1.4576e+00,\n",
            "            1.3951e+00, -1.6051e-01],\n",
            "          ...,\n",
            "          [-7.6142e-01,  1.8723e+00, -3.0164e-01,  ...,  1.1051e+00,\n",
            "            3.3846e-02,  4.7295e-01],\n",
            "          [ 1.7896e-01, -6.6873e-01,  7.6407e-01,  ..., -1.5459e+00,\n",
            "            9.7517e-01,  1.9711e-01],\n",
            "          [-8.7972e-01, -4.4541e-01, -6.9040e-01,  ..., -6.5736e-01,\n",
            "           -1.4576e+00, -6.9225e-01]],\n",
            "\n",
            "         ...,\n",
            "\n",
            "         [[ 1.3881e+00,  1.9985e-01, -1.2069e+00,  ...,  4.1913e-01,\n",
            "           -1.3669e+00, -1.2040e+00],\n",
            "          [-6.4334e-01, -7.0657e-01,  1.7461e+00,  ...,  2.8320e-01,\n",
            "            1.0531e+00,  1.6241e+00],\n",
            "          [-1.9972e+00, -1.0040e+00, -5.1405e-01,  ..., -7.9470e-01,\n",
            "           -9.1774e-01, -5.8518e-01],\n",
            "          ...,\n",
            "          [-2.6336e-01, -1.0332e+00, -1.0877e+00,  ...,  7.1747e-01,\n",
            "            8.4961e-01,  5.7666e-02],\n",
            "          [ 9.4460e-01,  1.2887e+00,  1.8923e+00,  ..., -4.6597e-01,\n",
            "           -1.3155e+00, -4.9005e-01],\n",
            "          [ 3.7351e-01,  1.9364e-01,  1.3658e+00,  ..., -1.2924e-01,\n",
            "           -1.6304e+00,  1.8392e-01]],\n",
            "\n",
            "         [[ 1.0457e-01,  5.7927e-01,  1.4875e+00,  ...,  2.2881e+00,\n",
            "            5.7700e-01,  1.1563e+00],\n",
            "          [-1.5777e+00, -2.8541e-01,  5.4827e-01,  ..., -4.0828e-01,\n",
            "            7.7040e-01, -1.8934e-01],\n",
            "          [ 2.1371e-01,  7.8273e-01,  8.8235e-02,  ..., -1.9166e-02,\n",
            "           -9.5484e-01,  7.0323e-01],\n",
            "          ...,\n",
            "          [ 4.5667e-02,  3.8252e-01,  9.3054e-01,  ..., -3.2317e-01,\n",
            "           -6.9580e-01, -1.3105e-01],\n",
            "          [ 7.3597e-01,  1.4972e+00, -1.8096e+00,  ..., -1.2167e-01,\n",
            "           -2.4096e-02,  6.4392e-01],\n",
            "          [-1.9736e+00,  3.6139e-01,  5.0980e-01,  ..., -1.4900e-01,\n",
            "           -1.7658e-01,  7.2885e-01]],\n",
            "\n",
            "         [[ 2.8397e-01,  2.8748e-01,  1.0390e+00,  ..., -9.7415e-01,\n",
            "           -7.7194e-01,  3.7249e-01],\n",
            "          [ 1.2848e+00,  5.7871e-01,  1.0929e+00,  ..., -6.2968e-02,\n",
            "           -1.3886e+00,  5.1301e-01],\n",
            "          [ 6.1089e-01, -6.5349e-01,  1.2376e-01,  ..., -3.9774e-01,\n",
            "           -5.5093e-01,  9.2120e-02],\n",
            "          ...,\n",
            "          [-1.3471e+00, -5.9554e-01,  2.0410e-01,  ..., -1.1240e+00,\n",
            "           -8.7650e-02,  4.5139e-02],\n",
            "          [ 1.4874e+00, -1.5460e+00, -1.6766e+00,  ...,  5.1434e-01,\n",
            "           -2.4048e+00,  5.6426e-01],\n",
            "          [-6.8729e-01, -3.8331e-01,  1.0924e+00,  ...,  5.3498e-01,\n",
            "           -1.5271e+00,  5.8493e-01]]],\n",
            "\n",
            "\n",
            "        [[[ 1.0153e+00, -4.6536e-01,  5.7641e-01,  ...,  8.7942e-01,\n",
            "           -9.2652e-01, -1.4432e-02],\n",
            "          [-1.4266e+00, -6.3153e-01, -4.5463e-01,  ...,  1.0072e+00,\n",
            "            3.1196e-01,  1.2935e-01],\n",
            "          [ 1.6580e+00, -1.0526e+00,  1.7397e-01,  ..., -4.1361e-02,\n",
            "           -2.0214e+00,  8.4442e-01],\n",
            "          ...,\n",
            "          [ 1.4210e+00, -7.8243e-01, -2.0981e-01,  ..., -1.2509e+00,\n",
            "            7.9151e-02,  1.9941e+00],\n",
            "          [ 1.3955e-01,  1.4077e+00,  5.7766e-01,  ...,  9.5252e-02,\n",
            "            4.0134e-01,  6.5834e-01],\n",
            "          [-5.9559e-01,  1.2507e+00,  6.8436e-01,  ..., -2.7590e-01,\n",
            "            1.8473e+00, -3.3893e-01]],\n",
            "\n",
            "         [[ 1.3811e-01,  8.8713e-01, -3.2109e-01,  ..., -9.0112e-01,\n",
            "            3.2356e-01, -1.5696e+00],\n",
            "          [ 7.1746e-01, -7.2949e-02, -4.1489e-01,  ..., -8.3069e-01,\n",
            "           -5.8248e-01,  2.3218e-02],\n",
            "          [-6.8308e-01,  9.5412e-01, -5.5355e-01,  ..., -3.1094e-01,\n",
            "           -1.0927e+00, -2.9338e-02],\n",
            "          ...,\n",
            "          [ 2.3635e-01,  6.0022e-01,  3.2867e-01,  ...,  9.1174e-01,\n",
            "           -1.5874e+00,  9.9869e-03],\n",
            "          [-1.1812e+00, -6.7510e-01, -2.8140e-01,  ..., -1.7809e+00,\n",
            "           -1.4387e+00,  1.1358e+00],\n",
            "          [-4.5105e-01,  4.6611e-01,  2.6655e-01,  ...,  9.5303e-01,\n",
            "            9.1418e-01, -1.0483e+00]],\n",
            "\n",
            "         [[ 1.6198e+00, -2.1714e+00, -2.2190e+00,  ...,  1.7764e+00,\n",
            "           -9.9728e-01,  2.8387e-01],\n",
            "          [ 2.0636e-01, -1.9324e+00,  2.0954e-01,  ..., -2.9687e+00,\n",
            "            1.1012e+00,  2.0869e-01],\n",
            "          [ 1.3352e-01, -5.4366e-02, -5.0611e-01,  ..., -9.3523e-01,\n",
            "            1.3154e+00, -8.4715e-01],\n",
            "          ...,\n",
            "          [ 3.3336e-01,  2.5015e+00, -1.1521e+00,  ...,  9.8325e-01,\n",
            "           -1.8363e+00, -1.6049e+00],\n",
            "          [ 6.6346e-01,  2.6483e-01,  1.9645e+00,  ...,  2.3985e-01,\n",
            "            1.8396e+00, -8.9748e-02],\n",
            "          [ 8.6680e-01, -7.6588e-01,  1.5796e-01,  ...,  5.0816e-01,\n",
            "            7.5387e-01, -4.7764e-01]],\n",
            "\n",
            "         ...,\n",
            "\n",
            "         [[ 1.6122e+00, -3.5975e-02, -1.8191e-01,  ...,  9.5922e-02,\n",
            "            9.3582e-01, -1.2879e+00],\n",
            "          [-1.1671e+00, -2.1022e-01,  5.4141e-01,  ..., -1.1195e+00,\n",
            "           -1.1191e+00, -1.5664e+00],\n",
            "          [ 4.6753e-01, -6.8329e-01,  7.5382e-01,  ..., -1.3021e+00,\n",
            "           -1.4261e+00,  4.1881e-01],\n",
            "          ...,\n",
            "          [ 9.1130e-01,  1.6864e+00,  1.2668e+00,  ..., -7.9379e-01,\n",
            "            4.5844e-01,  1.2540e+00],\n",
            "          [-7.7261e-01,  1.9811e+00,  1.4978e-01,  ..., -1.5419e-01,\n",
            "           -6.4851e-01, -4.7285e-01],\n",
            "          [ 1.4651e+00, -2.1308e+00,  4.3585e-01,  ..., -7.8183e-02,\n",
            "           -1.7663e+00, -9.2618e-01]],\n",
            "\n",
            "         [[ 1.0797e+00,  1.3352e+00,  2.8706e-01,  ..., -1.3954e-01,\n",
            "            1.2979e+00,  4.4025e-01],\n",
            "          [ 9.7346e-01,  4.7329e-01,  2.7086e+00,  ..., -2.3774e+00,\n",
            "            1.3277e+00, -3.4642e-01],\n",
            "          [-1.1721e+00, -9.3309e-01, -1.4223e+00,  ...,  2.6301e-01,\n",
            "            6.8053e-01,  4.9900e-01],\n",
            "          ...,\n",
            "          [ 4.9110e-01,  3.6601e-01, -3.3621e-01,  ..., -4.5147e-01,\n",
            "            1.2354e+00,  2.1315e-01],\n",
            "          [ 2.2649e-01,  3.1391e-01,  5.1911e-01,  ...,  6.9595e-01,\n",
            "            7.9689e-01,  2.5307e-01],\n",
            "          [ 1.5982e-01,  5.8947e-02,  9.7704e-01,  ...,  1.6519e+00,\n",
            "            3.8261e-01,  6.9514e-01]],\n",
            "\n",
            "         [[ 1.9859e+00,  2.1377e+00,  1.2673e-01,  ..., -9.1475e-01,\n",
            "            3.2383e-02, -1.1468e-01],\n",
            "          [-9.3479e-02, -5.5119e-01,  1.6284e-01,  ...,  3.0788e-01,\n",
            "           -7.5334e-01,  1.4884e+00],\n",
            "          [-5.5107e-01, -7.6869e-02,  6.4327e-01,  ...,  2.4547e-01,\n",
            "           -2.2616e-01,  7.4305e-01],\n",
            "          ...,\n",
            "          [ 2.3525e-01, -1.8017e+00, -1.6287e-01,  ...,  9.0431e-01,\n",
            "           -4.0174e-01,  5.3506e-01],\n",
            "          [ 3.5447e-01,  6.9245e-01,  6.0351e-01,  ..., -2.1444e+00,\n",
            "            5.3886e-01, -3.4088e-02],\n",
            "          [ 2.0331e+00,  6.4742e-01, -4.2901e-01,  ..., -8.1384e-01,\n",
            "            5.3654e-01,  1.1942e-01]]],\n",
            "\n",
            "\n",
            "        [[[-7.7936e-01,  1.8581e-01,  9.9337e-01,  ..., -2.3089e-01,\n",
            "           -4.9531e-01,  5.9029e-01],\n",
            "          [-1.8168e+00,  9.0727e-01,  4.7095e-01,  ..., -1.7564e-01,\n",
            "           -9.1531e-02,  9.4293e-01],\n",
            "          [-7.8285e-01,  1.8606e+00,  8.0759e-02,  ..., -1.8885e+00,\n",
            "           -9.9528e-01,  6.2416e-01],\n",
            "          ...,\n",
            "          [-2.4290e-01,  1.6419e+00,  3.6840e-01,  ..., -8.5202e-01,\n",
            "           -5.9794e-01,  1.3013e-01],\n",
            "          [ 9.7259e-01, -1.0302e+00,  2.3126e+00,  ..., -8.1734e-01,\n",
            "            9.0623e-01,  4.6069e-01],\n",
            "          [ 5.9094e-01, -1.7174e+00,  2.7190e-01,  ...,  7.2581e-01,\n",
            "           -1.1334e+00,  1.8407e+00]],\n",
            "\n",
            "         [[ 5.9106e-01,  5.6167e-01,  2.2893e-01,  ..., -5.0161e-01,\n",
            "            4.1812e-01,  6.9051e-01],\n",
            "          [-5.3128e-01, -4.9329e-01, -2.0307e+00,  ...,  6.1920e-01,\n",
            "           -3.5926e-01,  5.0033e-01],\n",
            "          [ 9.5153e-01, -1.5568e-01,  3.1023e-01,  ...,  6.5685e-01,\n",
            "            2.7551e-01, -8.6519e-01],\n",
            "          ...,\n",
            "          [-1.2862e+00,  2.5579e-03,  2.1837e+00,  ..., -7.8186e-01,\n",
            "           -7.2165e-02,  5.4236e-03],\n",
            "          [ 1.0873e+00, -6.5074e-02, -5.8625e-01,  ..., -3.0148e-01,\n",
            "            2.1678e-01,  5.2673e-01],\n",
            "          [-3.9725e-01, -1.8758e+00,  6.0490e-01,  ..., -3.4486e-01,\n",
            "            2.5825e+00,  4.6926e-01]],\n",
            "\n",
            "         [[-9.1274e-01, -1.2260e+00, -6.3567e-01,  ...,  1.3117e+00,\n",
            "           -6.4801e-01, -1.5596e+00],\n",
            "          [ 7.4213e-01,  2.3840e-01, -2.0734e-02,  ..., -5.0658e-01,\n",
            "           -1.1146e+00,  3.9651e-01],\n",
            "          [ 8.6464e-01,  1.4763e+00,  3.6963e-01,  ...,  3.8003e-01,\n",
            "           -1.8775e+00, -1.1741e-01],\n",
            "          ...,\n",
            "          [-1.0912e+00,  3.4775e-02, -1.3143e+00,  ..., -1.3471e+00,\n",
            "           -1.3638e+00, -1.2335e-01],\n",
            "          [-7.0555e-01,  2.9451e-01, -1.0368e+00,  ..., -6.2496e-01,\n",
            "            9.7575e-01, -1.2182e+00],\n",
            "          [ 1.1029e+00,  8.0453e-01, -1.5279e+00,  ..., -5.2832e-01,\n",
            "           -5.3290e-01,  1.8427e-01]],\n",
            "\n",
            "         ...,\n",
            "\n",
            "         [[ 2.5221e-01,  7.2255e-01, -1.7812e+00,  ..., -2.0072e+00,\n",
            "            4.3305e-01, -1.9683e+00],\n",
            "          [-2.2319e-01,  2.2173e-01, -5.2548e-01,  ...,  8.3700e-03,\n",
            "            8.6551e-01,  3.2871e-01],\n",
            "          [ 7.7248e-01,  9.3469e-01, -1.2788e+00,  ...,  1.2640e+00,\n",
            "            6.5491e-01, -5.3570e-02],\n",
            "          ...,\n",
            "          [-1.0336e+00, -1.4322e+00, -2.4727e-01,  ..., -9.1849e-01,\n",
            "           -1.1901e+00, -5.6241e-01],\n",
            "          [ 2.2667e-01,  5.1124e-02,  9.7376e-01,  ...,  7.7532e-01,\n",
            "           -1.8267e-01,  5.3102e-01],\n",
            "          [-1.2723e+00, -2.3648e-01, -4.7104e-01,  ...,  8.0191e-02,\n",
            "           -4.5741e-01, -5.9429e-01]],\n",
            "\n",
            "         [[-7.1950e-01,  2.7491e+00,  4.6378e-01,  ..., -2.1716e-01,\n",
            "            1.0767e+00, -6.8339e-01],\n",
            "          [-3.0112e-01,  6.9542e-01,  9.9707e-01,  ..., -7.1599e-01,\n",
            "           -2.2551e-01, -1.2297e+00],\n",
            "          [ 1.3500e+00,  1.1266e+00, -7.3645e-01,  ..., -4.1820e-02,\n",
            "           -1.0495e+00, -1.2689e+00],\n",
            "          ...,\n",
            "          [-7.4539e-02, -1.1996e+00,  5.2380e-02,  ..., -3.7102e-01,\n",
            "            2.9055e+00,  1.5911e-01],\n",
            "          [ 1.3149e+00, -5.4746e-01,  3.4058e-01,  ...,  2.2074e+00,\n",
            "            1.4255e+00, -7.8228e-01],\n",
            "          [ 4.1911e-01,  9.5693e-01,  1.1818e+00,  ..., -2.1687e+00,\n",
            "            1.3251e+00, -3.5286e-03]],\n",
            "\n",
            "         [[ 1.7916e+00,  1.3611e+00, -1.4858e+00,  ...,  4.4431e-01,\n",
            "            1.2403e+00,  2.4613e-01],\n",
            "          [ 1.6783e+00, -1.5828e+00,  9.0684e-01,  ..., -9.7309e-01,\n",
            "           -1.0559e+00, -7.3422e-01],\n",
            "          [ 6.3537e-01,  4.8128e-01,  6.4306e-01,  ..., -6.4399e-01,\n",
            "           -7.1198e-01, -1.0149e-01],\n",
            "          ...,\n",
            "          [-5.7174e-01, -1.0163e+00,  1.5975e+00,  ..., -1.6735e+00,\n",
            "            2.5673e-01,  5.2547e-01],\n",
            "          [ 2.1878e-01, -1.0053e+00,  1.9835e+00,  ...,  1.8949e-01,\n",
            "            3.8816e-01, -1.3324e+00],\n",
            "          [ 3.1925e-01, -1.3906e-01,  8.4661e-01,  ...,  5.9198e-01,\n",
            "           -2.5143e-01,  1.2942e+00]]],\n",
            "\n",
            "\n",
            "        ...,\n",
            "\n",
            "\n",
            "        [[[-5.4531e-01,  3.7022e-01, -1.6179e+00,  ...,  6.9936e-01,\n",
            "           -5.6773e-01,  1.3285e+00],\n",
            "          [ 3.9661e-01,  1.6057e+00,  2.3512e-01,  ...,  9.6654e-01,\n",
            "           -8.8177e-01, -1.3902e+00],\n",
            "          [ 1.0124e+00,  1.9273e-01,  2.8204e-01,  ..., -6.6557e-01,\n",
            "           -5.0622e-01, -1.6513e+00],\n",
            "          ...,\n",
            "          [ 8.4182e-01,  1.5433e+00,  6.8616e-01,  ...,  9.9835e-02,\n",
            "            8.3513e-01, -1.8204e-01],\n",
            "          [ 1.3316e+00,  2.3336e-01,  8.6936e-01,  ..., -1.6145e+00,\n",
            "            2.3126e-01,  5.1701e-01],\n",
            "          [-2.9138e-01, -6.4388e-01, -5.1535e-01,  ..., -3.7841e-02,\n",
            "           -5.0492e-01, -6.7472e-01]],\n",
            "\n",
            "         [[-1.1824e+00, -1.4047e+00, -4.3266e-02,  ..., -4.4513e-01,\n",
            "            7.7858e-01, -1.7258e-01],\n",
            "          [ 4.3157e-01, -1.5681e+00,  1.3313e+00,  ...,  3.7030e-01,\n",
            "           -6.6061e-01,  1.7056e+00],\n",
            "          [-4.7915e-01, -6.7491e-01,  8.6069e-03,  ...,  3.2673e-01,\n",
            "           -3.3395e-01, -6.7247e-01],\n",
            "          ...,\n",
            "          [-1.4779e-01, -1.9582e+00, -1.6949e-02,  ..., -2.6290e-02,\n",
            "           -1.4169e+00,  4.3153e-01],\n",
            "          [-6.0353e-02, -1.0412e+00,  2.7723e+00,  ..., -7.8795e-03,\n",
            "           -3.2483e-01, -5.3740e-02],\n",
            "          [ 2.3699e+00,  2.7059e-01, -8.8250e-02,  ..., -1.0739e-03,\n",
            "           -6.3992e-02,  4.2509e-02]],\n",
            "\n",
            "         [[-2.8838e-01,  1.0034e+00,  1.6920e+00,  ..., -5.7744e-01,\n",
            "           -1.3478e-01, -4.4001e-01],\n",
            "          [-1.0677e+00, -2.2260e+00, -1.3679e-01,  ...,  5.8395e-02,\n",
            "            7.4571e-01, -7.6010e-01],\n",
            "          [-1.2089e+00, -1.6969e+00, -6.5106e-01,  ...,  9.8898e-01,\n",
            "           -8.1999e-01, -9.0526e-01],\n",
            "          ...,\n",
            "          [ 1.0440e+00, -6.6240e-01, -9.5187e-01,  ..., -9.7755e-01,\n",
            "            5.2231e-01,  2.1740e+00],\n",
            "          [-2.3895e+00,  1.0442e-01,  1.2258e+00,  ...,  1.8829e-01,\n",
            "            8.9296e-01, -1.7815e+00],\n",
            "          [ 6.0569e-01,  2.0348e-01,  3.5491e-01,  ...,  1.8368e+00,\n",
            "           -3.7186e-03, -3.1652e-01]],\n",
            "\n",
            "         ...,\n",
            "\n",
            "         [[-4.4116e-02,  9.9934e-01, -1.9273e+00,  ...,  3.7078e-01,\n",
            "           -4.5118e-01,  4.5364e-01],\n",
            "          [-5.0031e-01, -3.3790e-01, -2.3122e-01,  ..., -5.0172e-01,\n",
            "           -8.9230e-01, -7.2300e-01],\n",
            "          [-1.3259e+00, -5.5069e-01,  1.8574e+00,  ..., -2.8104e-01,\n",
            "            6.4272e-01,  6.1293e-01],\n",
            "          ...,\n",
            "          [ 1.6052e+00, -4.9523e-01,  2.0281e+00,  ...,  1.2334e+00,\n",
            "           -4.5214e-01,  9.5428e-01],\n",
            "          [-1.0355e+00, -4.5406e-01, -2.2813e-01,  ...,  1.5719e-01,\n",
            "           -7.5011e-01,  1.4718e+00],\n",
            "          [-6.3905e-01, -4.8515e-01,  1.4796e+00,  ...,  4.2131e-01,\n",
            "            1.9404e+00, -3.2877e-01]],\n",
            "\n",
            "         [[-6.6652e-01,  1.8663e+00,  9.5849e-01,  ..., -3.6283e-01,\n",
            "            1.5568e+00, -2.6992e-01],\n",
            "          [-1.6734e+00, -1.3635e+00, -5.9897e-01,  ...,  1.6505e-02,\n",
            "            2.5438e-01,  8.5211e-01],\n",
            "          [ 1.2857e+00, -2.4160e+00, -3.6251e-01,  ...,  3.7418e-01,\n",
            "           -1.0055e+00,  2.2570e-01],\n",
            "          ...,\n",
            "          [ 8.3982e-01,  2.0434e+00, -2.4752e-01,  ...,  3.4670e-01,\n",
            "            7.5283e-01,  4.6824e-02],\n",
            "          [ 1.8697e-01,  1.7231e+00,  1.7843e-01,  ...,  6.7671e-01,\n",
            "           -1.9875e+00,  3.3356e-01],\n",
            "          [ 4.1502e-01, -5.5346e-01, -1.0971e+00,  ..., -1.6283e-01,\n",
            "           -2.4727e-01,  6.4304e-01]],\n",
            "\n",
            "         [[ 7.5430e-01,  5.2536e-01, -6.2646e-01,  ..., -1.4000e+00,\n",
            "            1.2406e+00,  8.4135e-01],\n",
            "          [ 2.2844e-01,  1.8076e-01, -9.6259e-01,  ...,  4.2340e-01,\n",
            "           -9.4138e-01,  3.6761e-01],\n",
            "          [ 7.6322e-01, -5.3389e-01,  3.2549e+00,  ..., -9.2665e-01,\n",
            "            1.8200e+00, -1.3829e+00],\n",
            "          ...,\n",
            "          [-1.0089e+00,  1.6999e-01, -1.8792e+00,  ...,  3.1172e-02,\n",
            "           -4.2443e-01, -3.5234e-01],\n",
            "          [-3.6771e-01, -9.8319e-01, -1.7998e+00,  ...,  4.8586e-01,\n",
            "            5.5693e-02,  1.4978e+00],\n",
            "          [ 8.5037e-01, -3.6976e-01, -6.5470e-01,  ...,  9.8381e-01,\n",
            "            8.8533e-01, -8.8522e-01]]],\n",
            "\n",
            "\n",
            "        [[[-1.4436e+00, -6.4928e-01, -9.1042e-01,  ..., -5.5482e-01,\n",
            "            5.8681e-01,  1.5146e+00],\n",
            "          [-9.1343e-01,  3.4089e-01,  9.6359e-02,  ..., -1.4836e-02,\n",
            "            4.8069e-01,  2.1313e+00],\n",
            "          [-1.1986e+00, -1.6015e+00,  1.7937e+00,  ..., -1.4634e+00,\n",
            "            1.0648e+00, -1.0075e+00],\n",
            "          ...,\n",
            "          [ 1.1783e+00,  3.7606e-01,  5.7156e-01,  ..., -1.3353e-01,\n",
            "            1.3163e+00,  3.5721e-02],\n",
            "          [ 7.0724e-02, -1.8238e+00,  1.3847e+00,  ...,  2.0666e+00,\n",
            "            2.2863e+00,  4.7860e-01],\n",
            "          [-4.2058e-01, -4.7739e-02,  4.2121e-02,  ...,  2.1384e-01,\n",
            "           -2.4900e+00, -4.2017e-01]],\n",
            "\n",
            "         [[-8.2808e-01,  1.6608e+00, -5.4626e-01,  ..., -8.5526e-01,\n",
            "           -1.0358e+00, -1.8748e+00],\n",
            "          [ 1.3233e+00, -3.4336e-01,  1.0037e-01,  ...,  1.0117e+00,\n",
            "            1.0094e+00,  2.2972e+00],\n",
            "          [-1.2202e+00,  9.0025e-01, -6.0740e-01,  ...,  1.4381e+00,\n",
            "           -8.7915e-01,  4.8600e-01],\n",
            "          ...,\n",
            "          [ 1.1549e+00,  8.2482e-01,  6.5179e-01,  ..., -1.9066e+00,\n",
            "           -7.8892e-01,  9.5234e-01],\n",
            "          [ 8.3317e-01, -6.7926e-01,  2.6466e-01,  ..., -9.4293e-01,\n",
            "           -5.6768e-01, -1.6758e+00],\n",
            "          [ 1.6739e+00,  8.9544e-01,  8.3269e-01,  ...,  5.3113e-01,\n",
            "            2.0402e+00,  3.2336e-01]],\n",
            "\n",
            "         [[ 2.8021e+00,  3.6159e-01,  1.2641e+00,  ..., -8.4604e-01,\n",
            "            1.3556e+00,  3.3484e-01],\n",
            "          [ 1.1388e+00,  1.5306e+00,  1.0613e+00,  ...,  1.0074e+00,\n",
            "           -1.8838e+00,  7.6016e-01],\n",
            "          [ 2.8529e-01,  2.1548e-01,  3.4603e-01,  ..., -1.6227e+00,\n",
            "           -4.6924e-01,  8.9257e-02],\n",
            "          ...,\n",
            "          [-1.9456e+00, -1.2248e+00,  1.0372e-01,  ..., -8.2372e-02,\n",
            "            1.4682e+00,  4.9752e-01],\n",
            "          [-9.7306e-01, -2.4393e-01, -8.9113e-01,  ..., -6.8192e-01,\n",
            "           -8.4853e-01, -8.9367e-01],\n",
            "          [-1.0304e-01, -6.4275e-01,  8.3482e-02,  ...,  3.3660e-01,\n",
            "           -1.3753e+00,  1.4935e+00]],\n",
            "\n",
            "         ...,\n",
            "\n",
            "         [[-1.4391e+00, -1.1380e+00,  1.1038e+00,  ...,  1.0619e+00,\n",
            "            1.9557e+00,  1.8060e+00],\n",
            "          [ 3.6717e-01,  7.0684e-01,  4.6594e-01,  ...,  4.1162e-01,\n",
            "           -8.4765e-01,  3.6526e-01],\n",
            "          [-1.8672e+00, -8.6345e-01, -1.4320e-01,  ..., -1.5481e+00,\n",
            "           -6.4073e-01,  1.2907e+00],\n",
            "          ...,\n",
            "          [-5.3349e-01, -2.7539e+00, -1.0173e+00,  ...,  3.3808e-01,\n",
            "            1.0431e+00,  5.6118e-01],\n",
            "          [-6.9563e-02, -1.8056e+00,  4.1885e-01,  ...,  3.0697e-02,\n",
            "            4.5124e-01,  1.4956e-01],\n",
            "          [ 4.1929e-01, -7.2067e-01,  7.4588e-01,  ..., -1.4018e-01,\n",
            "           -1.8744e-01,  1.1595e+00]],\n",
            "\n",
            "         [[ 4.1885e-01, -1.2424e+00, -9.6174e-01,  ...,  4.4984e-01,\n",
            "           -5.0275e-01, -1.9920e-02],\n",
            "          [ 9.8806e-01, -5.1411e-01,  8.7978e-02,  ...,  2.4655e+00,\n",
            "           -1.4939e+00,  1.1661e+00],\n",
            "          [-7.3306e-01, -7.3514e-01,  5.3677e-02,  ...,  4.4774e-01,\n",
            "            2.3670e-01,  3.8881e-01],\n",
            "          ...,\n",
            "          [-3.6809e-01,  4.5470e-01,  7.0969e-01,  ...,  7.5428e-01,\n",
            "            9.0994e-01, -5.6673e-01],\n",
            "          [-1.1112e+00, -5.4797e-02,  9.2847e-01,  ...,  2.4502e+00,\n",
            "           -3.8426e-01,  8.5673e-01],\n",
            "          [-6.4337e-01, -1.3153e+00,  1.3025e+00,  ..., -4.4152e-01,\n",
            "           -1.2443e+00,  9.9741e-01]],\n",
            "\n",
            "         [[ 5.5203e-01, -8.5995e-01,  5.5669e-01,  ...,  2.1405e-01,\n",
            "           -8.3500e-01, -5.8621e-01],\n",
            "          [-1.3660e+00,  1.9057e+00, -1.2512e+00,  ...,  7.0066e-01,\n",
            "            5.1485e-01,  6.6548e-01],\n",
            "          [ 9.8533e-01, -9.1377e-01, -3.9424e-01,  ...,  7.3921e-01,\n",
            "            8.4729e-01,  9.2157e-01],\n",
            "          ...,\n",
            "          [ 1.4397e+00,  1.1779e+00,  4.3331e-03,  ...,  2.5026e-01,\n",
            "           -8.8945e-01, -8.1774e-01],\n",
            "          [ 1.0913e-01,  1.5681e+00, -2.7797e-01,  ...,  1.1218e+00,\n",
            "            2.9288e-01,  4.5836e-01],\n",
            "          [ 1.1018e+00,  6.0665e-01,  8.3300e-01,  ...,  7.0392e-01,\n",
            "            4.3383e-01,  1.8754e-01]]],\n",
            "\n",
            "\n",
            "        [[[-2.9006e-01,  1.2379e+00, -1.3207e+00,  ...,  1.3378e+00,\n",
            "            4.4263e-01,  1.7224e-01],\n",
            "          [-2.0324e-01,  7.6702e-02,  6.4610e-01,  ..., -6.7795e-01,\n",
            "           -8.4390e-01, -1.4634e+00],\n",
            "          [ 8.4327e-01, -8.2626e-01, -1.6975e-01,  ..., -1.4065e+00,\n",
            "           -3.4915e-01,  4.6807e-01],\n",
            "          ...,\n",
            "          [-6.2286e-01, -5.3863e-02,  3.1917e-01,  ..., -6.6272e-01,\n",
            "           -1.3098e+00, -9.4731e-02],\n",
            "          [-1.3898e+00,  1.6852e-01, -1.3263e+00,  ..., -1.2923e+00,\n",
            "           -9.4781e-01,  9.3779e-01],\n",
            "          [-7.5940e-01,  2.2685e+00,  5.2353e-02,  ..., -2.8756e-01,\n",
            "            5.4047e-01, -2.0340e-01]],\n",
            "\n",
            "         [[-1.5890e+00,  2.8630e-01, -2.5603e-01,  ..., -1.4672e+00,\n",
            "            4.1379e-01,  3.9332e-01],\n",
            "          [-9.3077e-01, -5.7631e-01, -1.8727e+00,  ..., -1.7557e+00,\n",
            "            1.4597e-01, -1.4323e+00],\n",
            "          [-3.6264e-02, -9.5857e-01,  8.0483e-01,  ...,  3.0823e+00,\n",
            "           -1.1423e+00, -9.2530e-01],\n",
            "          ...,\n",
            "          [-8.5363e-01,  5.1982e-01,  1.3797e-01,  ...,  1.3990e-01,\n",
            "            1.3368e+00, -7.4229e-02],\n",
            "          [-1.7263e+00, -3.2724e-01,  2.9566e-01,  ..., -1.4768e+00,\n",
            "            1.7892e+00,  4.9617e-01],\n",
            "          [-7.7039e-01, -1.6065e+00,  1.7243e+00,  ..., -1.5308e+00,\n",
            "           -2.4317e-01,  9.0439e-02]],\n",
            "\n",
            "         [[ 2.3876e+00,  3.6529e-02,  1.0852e+00,  ...,  1.7583e+00,\n",
            "            1.2582e+00, -1.2108e+00],\n",
            "          [-1.1223e-01,  1.4019e+00,  2.7386e-01,  ..., -6.3397e-01,\n",
            "            1.0639e+00, -9.3480e-01],\n",
            "          [-5.8840e-01,  4.2405e-01, -1.9486e+00,  ...,  2.7714e-01,\n",
            "           -1.0085e+00, -5.0648e-01],\n",
            "          ...,\n",
            "          [-5.5146e-03,  3.4022e-01,  1.1515e+00,  ...,  3.5971e-01,\n",
            "            1.2569e+00,  8.5233e-01],\n",
            "          [-1.9066e-01,  8.9700e-01,  8.9206e-01,  ..., -3.9680e-01,\n",
            "            1.4926e+00,  1.7478e+00],\n",
            "          [-1.6879e+00,  7.3249e-01,  7.1686e-01,  ..., -1.3964e-02,\n",
            "            1.2835e+00,  2.0257e+00]],\n",
            "\n",
            "         ...,\n",
            "\n",
            "         [[ 2.4178e-01, -1.0511e+00, -1.4248e-01,  ...,  8.3925e-01,\n",
            "           -7.1976e-01, -5.7652e-01],\n",
            "          [ 7.4471e-02,  2.4438e-01,  2.1080e+00,  ..., -1.6953e+00,\n",
            "            1.0190e+00, -3.4283e-01],\n",
            "          [-5.6953e-01,  7.4583e-02,  6.4302e-01,  ..., -3.0754e-01,\n",
            "           -1.1653e+00,  7.5388e-01],\n",
            "          ...,\n",
            "          [ 9.1475e-01, -3.0377e-01, -1.9882e+00,  ..., -3.4375e-01,\n",
            "            1.0563e+00,  2.1952e-01],\n",
            "          [-2.3220e-01, -4.5253e-01, -6.4080e-01,  ...,  1.0184e+00,\n",
            "           -1.2966e-01, -5.1582e-01],\n",
            "          [ 2.3868e-01,  4.0001e-01, -6.0532e-01,  ...,  1.0757e+00,\n",
            "           -6.6092e-02,  7.7629e-01]],\n",
            "\n",
            "         [[ 1.2070e+00, -1.9519e-01,  2.2353e-01,  ..., -4.0178e-01,\n",
            "            9.3022e-01,  1.4820e+00],\n",
            "          [-5.4931e-02, -4.6610e-01,  1.5935e+00,  ...,  1.1205e+00,\n",
            "           -1.3755e+00, -9.6112e-02],\n",
            "          [-3.6206e-01,  6.4693e-01,  2.6494e-01,  ...,  2.5213e+00,\n",
            "           -5.9271e-01, -1.1185e+00],\n",
            "          ...,\n",
            "          [ 6.4369e-01,  1.1106e+00, -1.2720e+00,  ..., -2.2694e-01,\n",
            "            2.6469e-01, -2.4074e-01],\n",
            "          [-9.3054e-01,  3.9012e-01, -8.8299e-01,  ..., -6.6746e-01,\n",
            "            3.9274e-01, -4.5834e-01],\n",
            "          [ 4.4592e-01,  5.9805e-01, -1.1829e+00,  ...,  1.0645e+00,\n",
            "            1.0018e+00, -1.3574e+00]],\n",
            "\n",
            "         [[-4.2793e-01,  6.0142e-01, -4.6822e-01,  ...,  4.3264e-01,\n",
            "           -2.1778e+00, -2.6748e-01],\n",
            "          [-8.8991e-01, -1.8298e+00, -4.2769e-01,  ...,  2.9432e-01,\n",
            "            1.9438e+00,  1.7124e-01],\n",
            "          [-3.4587e-01, -7.4834e-01,  1.5377e-01,  ...,  1.7254e-01,\n",
            "           -2.1392e-01,  1.2540e+00],\n",
            "          ...,\n",
            "          [-1.5817e+00,  1.7698e+00, -3.9348e-01,  ..., -1.3294e+00,\n",
            "           -1.1294e+00, -2.4168e-01],\n",
            "          [-5.0868e-01,  5.2450e-01, -5.7563e-01,  ..., -1.3743e-02,\n",
            "           -4.1922e-01,  1.6745e-01],\n",
            "          [ 1.1117e-01,  9.7628e-02,  2.0930e+00,  ..., -1.0638e+00,\n",
            "            8.1508e-01,  1.5088e+00]]]])\n"
          ]
        }
      ]
    },
    {
      "cell_type": "code",
      "source": [
        "print(output.shape)"
      ],
      "metadata": {
        "colab": {
          "base_uri": "https://localhost:8080/"
        },
        "id": "SwbP_OfD6Mtt",
        "outputId": "b7256dd0-67a1-4c5e-8430-f07964b36382"
      },
      "execution_count": 42,
      "outputs": [
        {
          "output_type": "stream",
          "name": "stdout",
          "text": [
            "torch.Size([20, 33, 26, 100])\n"
          ]
        }
      ]
    },
    {
      "cell_type": "markdown",
      "source": [
        "## nn.functional 패키지\n",
        "* 가중치를 직접 선언하여 인자로 넣어줘야 함"
      ],
      "metadata": {
        "id": "ULXz_sXv9xaL"
      }
    },
    {
      "cell_type": "code",
      "source": [
        "import torch \n",
        "import torch.nn.functional as  F"
      ],
      "metadata": {
        "id": "WzvMLP876MqH"
      },
      "execution_count": 3,
      "outputs": []
    },
    {
      "cell_type": "markdown",
      "source": [
        "### Convolution 예시 (2)"
      ],
      "metadata": {
        "id": "NboJQF-_-MVk"
      }
    },
    {
      "cell_type": "code",
      "source": [
        "filters = torch.randn(8,4,3,3)"
      ],
      "metadata": {
        "id": "JJs99boq6MnK"
      },
      "execution_count": 46,
      "outputs": []
    },
    {
      "cell_type": "code",
      "source": [
        "inputs = torch.randn(1,4,5,5)\n",
        "conv = F.conv2d(inputs, filters, padding = 1)\n",
        "conv.shape"
      ],
      "metadata": {
        "colab": {
          "base_uri": "https://localhost:8080/"
        },
        "id": "IZoUKoaf6Mj6",
        "outputId": "b4b2081d-8eab-49f5-a889-eadef4f2b257"
      },
      "execution_count": 49,
      "outputs": [
        {
          "output_type": "execute_result",
          "data": {
            "text/plain": [
              "torch.Size([1, 8, 5, 5])"
            ]
          },
          "metadata": {},
          "execution_count": 49
        }
      ]
    },
    {
      "cell_type": "markdown",
      "source": [
        "# 4. Torchvision\n",
        "* transforms : 전처리할 때 사용"
      ],
      "metadata": {
        "id": "b1t24cUb-qRS"
      }
    },
    {
      "cell_type": "code",
      "source": [
        "import torch\n",
        "import torchvision \n",
        "import torchvision.transforms as transforms"
      ],
      "metadata": {
        "id": "RC-MCWxd-gjZ"
      },
      "execution_count": 51,
      "outputs": []
    },
    {
      "cell_type": "code",
      "source": [
        "transforms = transforms.Compose([transforms.ToTensor(),\n",
        "                                 transforms.Normalize(mean = (0.5,),std = (0.5,))])"
      ],
      "metadata": {
        "id": "Os74o74R_yZZ"
      },
      "execution_count": 52,
      "outputs": []
    },
    {
      "cell_type": "markdown",
      "source": [
        "## utils.data"
      ],
      "metadata": {
        "id": "AjWbpI-zAHJc"
      }
    },
    {
      "cell_type": "code",
      "source": [
        "import torch\n",
        "from torch.utils.data import Dataset, DataLoader\n",
        "\n",
        "import torchvision\n",
        "import torchvision.transforms as transforms "
      ],
      "metadata": {
        "id": "yENH7W5VAFvq"
      },
      "execution_count": 91,
      "outputs": []
    },
    {
      "cell_type": "code",
      "source": [
        "trainset = torchvision.datasets.MNIST(root = '/content/',\n",
        "                                      train = True,\n",
        "                                      download = True,\n",
        "                                      transform = transforms)\n",
        "\n",
        "testset = torchvision.datasets.MNIST(root = '/content/',\n",
        "                                      train = False,\n",
        "                                      download = True,\n",
        "                                      transform = transforms)"
      ],
      "metadata": {
        "id": "mDyXCf9WAako"
      },
      "execution_count": 92,
      "outputs": []
    },
    {
      "cell_type": "code",
      "source": [
        "# batch_size 만큼 하나씩 가져옴\n",
        "train_loader = DataLoader(trainset, batch_size = 8, shuffle = True, num_workers = 2)\n",
        "test_loader = DataLoader(testset, batch_size = 2, shuffle = False, num_workers = 2)"
      ],
      "metadata": {
        "id": "inxSC5oWAo8I"
      },
      "execution_count": 93,
      "outputs": []
    },
    {
      "cell_type": "code",
      "source": [
        "dataiter = iter(train_loader)\n",
        "images , labels = dataiter.next()\n",
        "images.shape, labels.shape"
      ],
      "metadata": {
        "id": "dAiWBfIOBI-R"
      },
      "execution_count": null,
      "outputs": []
    },
    {
      "cell_type": "markdown",
      "source": [
        "#### **torch에서는 채널이 앞에 위치**\n",
        "* tensorflow, keras에서는 channel이 뒤에 위치"
      ],
      "metadata": {
        "id": "Gb1cpMNICer1"
      }
    },
    {
      "cell_type": "markdown",
      "source": [
        "# 5. 각 layer 설명"
      ],
      "metadata": {
        "id": "ZAuKN9NEHOIP"
      }
    },
    {
      "cell_type": "code",
      "source": [
        "import torch\n",
        "import torch.nn as nn\n",
        "import torch.nn.functional as F\n",
        "import torch.optim as optim"
      ],
      "metadata": {
        "id": "nHo4Uwm1HUnT"
      },
      "execution_count": 95,
      "outputs": []
    },
    {
      "cell_type": "markdown",
      "source": [
        "## nn.Conv2d\n",
        "* in_channels  : 채널의 갯수\n",
        "* out_channels : 출력 채널의 갯수\n",
        "* kernel_size : 커널 사이즈\n"
      ],
      "metadata": {
        "id": "07en2ONRHfow"
      }
    },
    {
      "cell_type": "code",
      "source": [
        "nn.Conv2d(in_channels= 1, out_channels= 20, kernel_size = 5,  stride = 1)"
      ],
      "metadata": {
        "colab": {
          "base_uri": "https://localhost:8080/"
        },
        "id": "NVqCXrOJHeL_",
        "outputId": "46c351e9-a920-454b-e42c-f50ac1d8bee3"
      },
      "execution_count": 109,
      "outputs": [
        {
          "output_type": "execute_result",
          "data": {
            "text/plain": [
              "Conv2d(1, 20, kernel_size=(5, 5), stride=(1, 1))"
            ]
          },
          "metadata": {},
          "execution_count": 109
        }
      ]
    },
    {
      "cell_type": "code",
      "source": [
        "layer = nn.Conv2d(1,20,5,1).to(torch.device('cpu'))\n",
        "layer"
      ],
      "metadata": {
        "colab": {
          "base_uri": "https://localhost:8080/"
        },
        "id": "2anAgKSpH3Zz",
        "outputId": "dd3d2848-fb54-4446-c3e4-d76625fa8aa4"
      },
      "execution_count": 110,
      "outputs": [
        {
          "output_type": "execute_result",
          "data": {
            "text/plain": [
              "Conv2d(1, 20, kernel_size=(5, 5), stride=(1, 1))"
            ]
          },
          "metadata": {},
          "execution_count": 110
        }
      ]
    },
    {
      "cell_type": "code",
      "source": [
        "# weight 확인\n",
        "weight = layer.weight \n",
        "weight.shape"
      ],
      "metadata": {
        "colab": {
          "base_uri": "https://localhost:8080/"
        },
        "id": "fiAj8CjCKrpf",
        "outputId": "a6227338-1f90-48a1-ecbd-9ccd8b9f75de"
      },
      "execution_count": 111,
      "outputs": [
        {
          "output_type": "execute_result",
          "data": {
            "text/plain": [
              "torch.Size([20, 1, 5, 5])"
            ]
          },
          "metadata": {},
          "execution_count": 111
        }
      ]
    },
    {
      "cell_type": "markdown",
      "source": [
        "* weight는 dstach로 꺼내야 numpy변환이 가능"
      ],
      "metadata": {
        "id": "_l0d7QH-Kz7x"
      }
    },
    {
      "cell_type": "code",
      "source": [
        "weight = weight.detach()"
      ],
      "metadata": {
        "id": "MIzt6lM7Kx4S"
      },
      "execution_count": 112,
      "outputs": []
    },
    {
      "cell_type": "code",
      "source": [
        "weight = weight.numpy()\n",
        "weight.shape"
      ],
      "metadata": {
        "colab": {
          "base_uri": "https://localhost:8080/"
        },
        "id": "p9iv4RH3K8Jl",
        "outputId": "5095635d-3bff-4b85-d333-16424ac296b8"
      },
      "execution_count": 113,
      "outputs": [
        {
          "output_type": "execute_result",
          "data": {
            "text/plain": [
              "(20, 1, 5, 5)"
            ]
          },
          "metadata": {},
          "execution_count": 113
        }
      ]
    },
    {
      "cell_type": "code",
      "source": [
        "plt.imshow(weight[0, 0, :,:], 'jet')\n",
        "plt.colorbar()"
      ],
      "metadata": {
        "colab": {
          "base_uri": "https://localhost:8080/",
          "height": 280
        },
        "id": "sHetpIcCLAT9",
        "outputId": "0a8b8767-c697-4364-e601-9b80b52cf808"
      },
      "execution_count": 114,
      "outputs": [
        {
          "output_type": "execute_result",
          "data": {
            "text/plain": [
              "<matplotlib.colorbar.Colorbar at 0x7f76fb697f10>"
            ]
          },
          "metadata": {},
          "execution_count": 114
        },
        {
          "output_type": "display_data",
          "data": {
            "image/png": "[encoded data removed]",
            "text/plain": [
              "<Figure size 432x288 with 2 Axes>"
            ]
          },
          "metadata": {}
        }
      ]
    },
    {
      "cell_type": "code",
      "source": [
        ""
      ],
      "metadata": {
        "id": "MTHJCKu5lgH9"
      },
      "execution_count": null,
      "outputs": []
    }
  ]
}